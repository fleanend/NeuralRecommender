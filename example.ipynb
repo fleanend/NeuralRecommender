{
 "cells": [
  {
   "cell_type": "code",
   "execution_count": 1,
   "metadata": {},
   "outputs": [
    {
     "name": "stdout",
     "output_type": "stream",
     "text": [
      "data matrix loaded\n",
      "num of users: 943\n",
      "num of movies: 1682\n",
      "num of training ratings: 80000\n",
      "num of test ratings: 20000\n"
     ]
    }
   ],
   "source": [
    "import numpy as np\n",
    "import ml_metrics\n",
    "from neuralrecommender.glocalk import GlocalK\n",
    "\n",
    "\n",
    "def load_data_100k(path=\"data/MovieLens_100K/\", delimiter='\\t'):\n",
    "    \"\"\"Code by https://github.com/usydnlp/Glocal_K authors\"\"\"\n",
    "    train = np.loadtxt(path+'movielens_100k_u1.base', skiprows=0, delimiter=delimiter).astype('int32')\n",
    "    test = np.loadtxt(path+'movielens_100k_u1.test', skiprows=0, delimiter=delimiter).astype('int32')\n",
    "    total = np.concatenate((train, test), axis=0)\n",
    "\n",
    "    n_u = np.unique(total[:,0]).size  # num of users\n",
    "    n_m = np.unique(total[:,1]).size  # num of movies\n",
    "    n_train = train.shape[0]  # num of training ratings\n",
    "    n_test = test.shape[0]  # num of test ratings\n",
    "\n",
    "    train_r = np.zeros((n_m, n_u), dtype='float32')\n",
    "    test_r = np.zeros((n_m, n_u), dtype='float32')\n",
    "\n",
    "    for i in range(n_train):\n",
    "        train_r[train[i,1]-1, train[i,0]-1] = train[i,2]\n",
    "\n",
    "    for i in range(n_test):\n",
    "        test_r[test[i,1]-1, test[i,0]-1] = test[i,2]\n",
    "\n",
    "    train_m = np.greater(train_r, 1e-12).astype('float32')  # masks indicating non-zero entries\n",
    "    test_m = np.greater(test_r, 1e-12).astype('float32')\n",
    "\n",
    "    print('data matrix loaded')\n",
    "    print('num of users: {}'.format(n_u))\n",
    "    print('num of movies: {}'.format(n_m))\n",
    "    print('num of training ratings: {}'.format(n_train))\n",
    "    print('num of test ratings: {}'.format(n_test))\n",
    "\n",
    "    return n_m, n_u, train_r, train_m, test_r, test_m\n",
    "     \n",
    "n_m, n_u, train_r, train_m, test_r, test_m = load_data_100k()"
   ]
  },
  {
   "cell_type": "code",
   "execution_count": 2,
   "metadata": {},
   "outputs": [
    {
     "name": "stdout",
     "output_type": "stream",
     "text": [
      "PRE-TRAINING finished.\n",
      "FINE-TUNING finished.\n"
     ]
    },
    {
     "data": {
      "text/plain": [
       "{'epochs_p': 88,\n",
       " 'epochs_f': 163,\n",
       " 'best_rmse_p': 0.9524429,\n",
       " 'best_rmse_f': 0.9397368}"
      ]
     },
     "execution_count": 2,
     "metadata": {},
     "output_type": "execute_result"
    }
   ],
   "source": [
    "# Instantiate and train the model\n",
    "recommender = GlocalK()\n",
    "metrics = recommender.fit(train_r)\n",
    "metrics"
   ]
  },
  {
   "cell_type": "code",
   "execution_count": null,
   "metadata": {},
   "outputs": [],
   "source": [
    "# Recommend for all users\n",
    "res = recommender.predict(np.arange(n_u))"
   ]
  },
  {
   "cell_type": "code",
   "execution_count": 86,
   "metadata": {},
   "outputs": [
    {
     "name": "stdout",
     "output_type": "stream",
     "text": [
      "Baseline (random):\t 0.0015963245812385394 \n",
      "GlocalK:\t\t 0.011698773036428344\n"
     ]
    }
   ],
   "source": [
    "# Evaluate the recommendations\n",
    "k=50\n",
    "ground_truth = np.argsort(-test_r, axis=0)[:k,:].T.tolist()\n",
    "recommended = np.argsort(-res, axis=0)[:k,:].T.tolist()\n",
    "random = np.random.randint(0,n_m,(n_u, k)).T.tolist()\n",
    "\n",
    "print(\"Baseline (random):\\t\", ml_metrics.mapk(ground_truth, random, k=k), \"\\nGlocalK:\\t\\t\", ml_metrics.mapk(ground_truth, recommended, k=k))"
   ]
  }
 ],
 "metadata": {
  "kernelspec": {
   "display_name": "Python 3.7.4 ('.venv-notebook': venv)",
   "language": "python",
   "name": "python3"
  },
  "language_info": {
   "codemirror_mode": {
    "name": "ipython",
    "version": 3
   },
   "file_extension": ".py",
   "mimetype": "text/x-python",
   "name": "python",
   "nbconvert_exporter": "python",
   "pygments_lexer": "ipython3",
   "version": "3.7.4"
  },
  "orig_nbformat": 4,
  "vscode": {
   "interpreter": {
    "hash": "751992c4ce1f56fa93ec1d9fc5e055a0179dac987b115d18254ab1731ca49b77"
   }
  }
 },
 "nbformat": 4,
 "nbformat_minor": 2
}
